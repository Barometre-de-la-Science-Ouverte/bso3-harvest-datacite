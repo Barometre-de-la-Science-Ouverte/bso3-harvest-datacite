{
 "cells": [
  {
   "cell_type": "markdown",
   "metadata": {},
   "source": [
    "# Documentation of the requests for the bso3-harvest-datacite application"
   ]
  },
  {
   "cell_type": "code",
   "execution_count": null,
   "metadata": {},
   "outputs": [],
   "source": [
    "import requests\n",
    "\n",
    "payload = {}\n",
    "# base_url = \"http://127.0.0.1:5004/\"\n",
    "base_url = \"http://datacite.bso3.dataesr.ovh/\"\n",
    "harvest_endpoint = \"harvest_dois\"\n",
    "process_endpoint = \"process\"\n",
    "affiliations_endpoint = \"affiliations\"\n",
    "consolidate_affiliation_endpoint = \"consolidate_affiliations_files\"\n",
    "enrichment_endpoint = \"enrich_dois\"\n",
    "\n",
    "harvest_url = base_url + harvest_endpoint\n",
    "process_url = base_url + process_endpoint\n",
    "affiliations_url = base_url + affiliations_endpoint\n",
    "consolidate_affiliation_url = base_url + consolidate_affiliation_endpoint\n",
    "enrichment_url = base_url + enrichment_endpoint\n",
    "headers = {\"Content-Type\": \"application/json\"}"
   ]
  },
  {
   "cell_type": "markdown",
   "metadata": {},
   "source": [
    "## Harvest request\n",
    ">Harvest the datacite API data via [dcdump](https://github.com/miku/dcdump)"
   ]
  },
  {
   "cell_type": "code",
   "execution_count": null,
   "metadata": {},
   "outputs": [],
   "source": [
    "harvest_payload = {\n",
    "    \"target_directory\": ,\n",
    "    \"start_date\": ,\n",
    "    \"end_date\": ,\n",
    "    \"interval\":\n",
    "}\n",
    "requests.post(harvest_url, headers=headers, json=harvest_payload)"
   ]
  },
  {
   "cell_type": "markdown",
   "metadata": {},
   "source": [
    "## Process request\n",
    ">Extraction of the info to submit to the affiliation matcher service from harvested datacite files"
   ]
  },
  {
   "cell_type": "code",
   "execution_count": null,
   "metadata": {},
   "outputs": [],
   "source": [
    "process_payload = {\n",
    "    \"total_number_of_partitions\":\n",
    "}\n",
    "requests.post(process_url, headers=headers, data=process_payload)"
   ]
  },
  {
   "cell_type": "markdown",
   "metadata": {},
   "source": [
    "## Affiliation request\n",
    ">Get affiliations for the data extracted during the process task"
   ]
  },
  {
   "cell_type": "code",
   "execution_count": null,
   "metadata": {},
   "outputs": [],
   "source": [
    "affiliations_payload = {\n",
    "    \"number_of_partitions\": ,\n",
    "    \"affiliations_source_file\":\n",
    "}\n",
    "requests.post(affiliations_url, headers=headers, data=affiliations_payload)"
   ]
  },
  {
   "cell_type": "code",
   "execution_count": null,
   "metadata": {},
   "outputs": [],
   "source": [
    "consolidate_affiliation_payload = {\n",
    "    \"total_number_of_partitions\":\n",
    "}\n",
    "requests.post(consolidate_affiliation_url, headers=headers, data=consolidate_affiliation_payload)"
   ]
  },
  {
   "cell_type": "markdown",
   "metadata": {},
   "source": [
    "## Enrichment request\n",
    ">Take raw dcdump files and write a file for each doi containing affiliations informations. Upload them to OVH object storage, in the datacite bucket under /dois (all files) and /fr (copy of doi files containing fr affiliations). Prepare the Elastic search index source file."
   ]
  },
  {
   "cell_type": "code",
   "execution_count": null,
   "metadata": {},
   "outputs": [],
   "source": [
    "enrichment_payload = {\n",
    "    \"partition_size\":\n",
    "}\n",
    "requests.post(enrichment_url, headers=headers, data=enrichment_payload)"
   ]
  }
 ],
 "metadata": {
  "kernelspec": {
   "display_name": "Python 3.7.1 ('venv': virtualenv)",
   "language": "python",
   "name": "python3"
  },
  "language_info": {
   "name": "python",
   "version": "3.7.1"
  },
  "vscode": {
   "interpreter": {
    "hash": "31525128ea8b8ba67a359f8e8d43d8a505ff95cf5b792e0bb8c706375f6fc025"
   }
  },
  "widgets": {
   "application/vnd.jupyter.widget-state+json": {
    "state": {},
    "version_major": 2,
    "version_minor": 0
   }
  }
 },
 "nbformat": 4,
 "nbformat_minor": 2
}
